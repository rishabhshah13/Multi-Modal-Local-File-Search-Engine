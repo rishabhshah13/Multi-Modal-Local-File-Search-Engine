{
 "cells": [
  {
   "cell_type": "code",
   "execution_count": null,
   "metadata": {},
   "outputs": [],
   "source": [
    "# WSL\n",
    "# cd /mnt/c/Users/rs659/Desktop/mmsearch"
   ]
  },
  {
   "cell_type": "code",
   "execution_count": null,
   "metadata": {},
   "outputs": [],
   "source": [
    "# conda create -n mmsearchenv python=3.9\n",
    "# conda activate mmsearchenv\n",
    "# conda install pytorch==2.1.2 torchvision==0.16.2 torchaudio==2.1.2 pytorch-cuda=12.1 -c pytorch -c nvidia\n",
    "# pip install -r requirements.txt\n",
    "# docker-compose up -d\n",
    "\n",
    "# https://anaconda.org/conda-forge/docker-compose\n",
    "\n",
    "\n",
    "\n",
    "# docker rm -f $(docker ps -aq)\n",
    "\n",
    "\n",
    "# conda install -c conda-forge poppler\n",
    "\n",
    "\n",
    "# Windows\n",
    "# cd  C:\\Users\\rs659\\Desktop\\Multi-Modal-Local-File-Search-Engine\n",
    "# conda deactivate\n",
    "# conda activate mmsearchenv\n",
    "# docker-compose up -d\n",
    "# python add_data.py\n",
    "# streamlit run app.py\n",
    "\n",
    "\n",
    "\n",
    "# WSL\n",
    "# cd /mnt/c/Users/rs659/Desktop/Multi-Modal-Local-File-Search-Engine\n",
    "# conda activate mmsearchenv\n",
    "# docker-compose up -d\n",
    "# python add_data.py\n",
    "# streamlit run app.py\n",
    "\n",
    "\n",
    "# https://github.com/weaviate/weaviate-examples/blob/main/weaviate-transformers-newspublications/docker-compose-withgpu.yaml"
   ]
  },
  {
   "cell_type": "code",
   "execution_count": null,
   "metadata": {},
   "outputs": [],
   "source": [
    "# Add metadata of PDF\n",
    "# Add progress to batch insert"
   ]
  },
  {
   "cell_type": "code",
   "execution_count": null,
   "metadata": {},
   "outputs": [],
   "source": [
    "import torch\n",
    "torch.cuda.is_available()"
   ]
  },
  {
   "cell_type": "code",
   "execution_count": null,
   "metadata": {},
   "outputs": [],
   "source": [
    "# https://developer.nvidia.com/cuda-12-2-0-download-archive?target_os=Linux&target_arch=x86_64&Distribution=WSL-Ubuntu&target_version=2.0&target_type=deb_local"
   ]
  },
  {
   "cell_type": "code",
   "execution_count": null,
   "metadata": {},
   "outputs": [],
   "source": [
    "# https://github.com/weaviate-tutorials/DEMO-multimodal-search"
   ]
  },
  {
   "cell_type": "code",
   "execution_count": null,
   "metadata": {},
   "outputs": [],
   "source": [
    "from pathlib import Path\n",
    "import json\n",
    "\n",
    "for f in Path(\"data/podcasts\").glob(\"*.json\"):  # assuming podcast data is in JSON files\n",
    "    # podcast_data = json.loads(f.read_text())\n",
    "    with open(f, 'r', encoding='utf-8') as file:\n",
    "        podcast_data = json.load(file)"
   ]
  },
  {
   "cell_type": "code",
   "execution_count": null,
   "metadata": {},
   "outputs": [],
   "source": [
    "len(podcast_data)"
   ]
  },
  {
   "cell_type": "code",
   "execution_count": null,
   "metadata": {},
   "outputs": [],
   "source": [
    "# data_props = {\n",
    "#     \"title\": podcast_data[\"title\"],\n",
    "#     \"transcript\": podcast_data[\"transcript\"],\n",
    "#     \"description\": podcast_data[\"description\"],\n",
    "#     \"titleimage\": base64.b64encode(Path(podcast_data[\"titleimage\"]).read_bytes()).decode(),\n",
    "# }"
   ]
  },
  {
   "cell_type": "code",
   "execution_count": null,
   "metadata": {},
   "outputs": [],
   "source": []
  },
  {
   "cell_type": "markdown",
   "metadata": {},
   "source": [
    "# Create PDF Object"
   ]
  },
  {
   "cell_type": "code",
   "execution_count": null,
   "metadata": {},
   "outputs": [],
   "source": [
    "import weaviate\n",
    "import weaviate.classes as wvc\n",
    "from weaviate.util import generate_uuid5\n",
    "from weaviate import WeaviateClient\n",
    "from weaviate.collections.classes.batch import BatchObjectReturn\n",
    "import base64\n",
    "from pathlib import Path\n",
    "import pandas as pd\n",
    "import json\n",
    "from unstructured.partition.pdf import partition_pdf\n",
    "from AbstractExtractor import AbstractExtractor"
   ]
  },
  {
   "cell_type": "code",
   "execution_count": null,
   "metadata": {},
   "outputs": [],
   "source": [
    "def define_collection_pdfs(client: WeaviateClient, collection_name: str = 'pdfs') -> bool:\n",
    "\n",
    "    # Creating a new collection with the defined schema\n",
    "    client.collections.create(\n",
    "        name=collection_name,\n",
    "        properties=[\n",
    "            wvc.Property(\n",
    "                name=\"filename\",\n",
    "                data_type=wvc.DataType.TEXT,\n",
    "            ),\n",
    "            wvc.Property(\n",
    "                name=\"abstract\",\n",
    "                data_type=wvc.DataType.TEXT,\n",
    "            ),\n",
    "            wvc.Property(\n",
    "                name=\"pages\",\n",
    "                # data_type=wvc.DataType.OBJECT_ARRAY,\n",
    "                data_type=wvc.DataType.TEXT_ARRAY,\n",
    "            )\n",
    "        ],\n",
    "        vectorizer_config=wvc.config.Configure.Vectorizer.multi2vec_bind(\n",
    "            text_fields=[wvc.config.Multi2VecField(name='filename', weight=0.50),\n",
    "                         wvc.config.Multi2VecField(name='abstract', weight=0.50)],\n",
    "            vectorize_collection_name=False)\n",
    "    )"
   ]
  },
  {
   "cell_type": "code",
   "execution_count": null,
   "metadata": {},
   "outputs": [],
   "source": [
    "client = weaviate.connect_to_local()\n",
    "client.collections.delete('pdf')\n",
    "\n",
    "define_collection_pdfs(client,'pdf')\n",
    "# import_data_pdf(client)"
   ]
  },
  {
   "cell_type": "code",
   "execution_count": null,
   "metadata": {},
   "outputs": [],
   "source": [
    "data_folder = \"data/pdf/\"\n",
    "\n",
    "data_objects = []\n",
    "\n",
    "for path in Path(data_folder).iterdir():\n",
    "    if path.suffix != \".pdf\":\n",
    "        continue\n",
    "\n",
    "    print(f\"Processing {path.name}...\")\n",
    "\n",
    "    elements = partition_pdf(filename=path)\n",
    "    break\n",
    "    # abstract_extractor = AbstractExtractor()\n",
    "    # abstract_extractor.consume_elements(elements)\n",
    "\n",
    "    # data_object = {\"filename\": path.name, \"abstract\": abstract_extractor.abstract()[:50], \"pages\":[data.text for data in elements]}\n",
    "\n",
    "    # data_objects.append(data_object)"
   ]
  },
  {
   "cell_type": "markdown",
   "metadata": {},
   "source": [
    "# Pdfs"
   ]
  },
  {
   "cell_type": "code",
   "execution_count": null,
   "metadata": {},
   "outputs": [],
   "source": [
    "from create_collections.PDF import define_collection_pdfs, import_data_pdf\n",
    "from pathlib import Path\n",
    "import weaviate\n",
    "import weaviate.classes as wvc\n",
    "import streamlit as st\n",
    "import base64\n",
    "from unstructured.partition.pdf import partition_pdf\n",
    "from AbstractExtractor import AbstractExtractor"
   ]
  },
  {
   "cell_type": "code",
   "execution_count": null,
   "metadata": {},
   "outputs": [],
   "source": [
    "client = weaviate.connect_to_local()"
   ]
  },
  {
   "cell_type": "code",
   "execution_count": null,
   "metadata": {},
   "outputs": [],
   "source": [
    "pdf_collection = client.collections.get('pdf')\n",
    "\n",
    "# pdf_collection.data.insert_many(data_objects)"
   ]
  },
  {
   "cell_type": "code",
   "execution_count": null,
   "metadata": {},
   "outputs": [],
   "source": [
    "from weaviate.classes.query import MetadataQuery\n",
    "\n",
    "jeopardy = client.collections.get(\"pdf\")\n",
    "response = jeopardy.query.bm25(\n",
    "    query=\"car safety is required\",\n",
    "    query_properties=[\"pages\"],\n",
    "    return_metadata=MetadataQuery(score=True),\n",
    "    limit=3\n",
    ")\n",
    "\n",
    "\n",
    "for o in response.objects:\n",
    "    print(o)"
   ]
  },
  {
   "cell_type": "code",
   "execution_count": null,
   "metadata": {},
   "outputs": [],
   "source": [
    "jeopardy = client.collections.get(\"pdf\")\n",
    "response = jeopardy.query.hybrid(\n",
    "    query=\"car safety is required\",\n",
    "    alpha=0.5,\n",
    "    return_metadata=MetadataQuery(score=True, explain_score=True),\n",
    "    limit=3\n",
    ")\n",
    "\n",
    "for o in response.objects:\n",
    "    print(o)\n"
   ]
  },
  {
   "cell_type": "code",
   "execution_count": null,
   "metadata": {},
   "outputs": [],
   "source": [
    "response = pdf_collection.query.fetch_objects(\n",
    "    include_vector=True,\n",
    "    limit=2\n",
    ")\n",
    "\n",
    "for o in response.objects:\n",
    "    print(o)"
   ]
  },
  {
   "cell_type": "code",
   "execution_count": null,
   "metadata": {},
   "outputs": [],
   "source": [
    "o"
   ]
  },
  {
   "cell_type": "code",
   "execution_count": null,
   "metadata": {},
   "outputs": [],
   "source": [
    "response = pdf_collection.query.bm25(\n",
    "     query=\"price\",\n",
    "    limit=3\n",
    ")\n",
    "\n",
    "for o in response.objects:\n",
    "    print(o.properties)"
   ]
  },
  {
   "cell_type": "code",
   "execution_count": null,
   "metadata": {},
   "outputs": [],
   "source": [
    "response = pdf_collection.query.hybrid(\n",
    "     query=\"car\",\n",
    "    limit=3\n",
    ")\n",
    "\n",
    "for o in response.objects:\n",
    "    print(o.properties)"
   ]
  },
  {
   "cell_type": "markdown",
   "metadata": {},
   "source": [
    "# Check reponse"
   ]
  },
  {
   "cell_type": "code",
   "execution_count": 5,
   "metadata": {},
   "outputs": [],
   "source": [
    "from pathlib import Path\n",
    "import weaviate\n",
    "import weaviate.classes as wvc\n",
    "import streamlit as st\n",
    "import base64\n",
    "# from add_data import COLLECTION_NAME\n",
    "\n",
    "client = weaviate.connect_to_local()"
   ]
  },
  {
   "cell_type": "code",
   "execution_count": 8,
   "metadata": {},
   "outputs": [
    {
     "name": "stdout",
     "output_type": "stream",
     "text": [
      "Object count in the Database: 11\n"
     ]
    }
   ],
   "source": [
    "pdf_collection = client.collections.get('pdf')\n",
    "\n",
    "response = pdf_collection.aggregate.over_all(total_count=True)\n",
    "print(f\"Object count in the Database: {response.total_count}\")\n",
    "\n",
    "for q in [\"home prices\"]:\n",
    "    response = pdf_collection.query.hybrid(q, limit=3)\n",
    "\n",
    "big_reponse_list = []\n",
    "big_reponse_list.append(response.objects)\n",
    "big_reponse_list.append(response.objects)"
   ]
  },
  {
   "cell_type": "code",
   "execution_count": null,
   "metadata": {},
   "outputs": [],
   "source": []
  },
  {
   "cell_type": "code",
   "execution_count": null,
   "metadata": {},
   "outputs": [],
   "source": []
  },
  {
   "cell_type": "code",
   "execution_count": null,
   "metadata": {},
   "outputs": [],
   "source": []
  }
 ],
 "metadata": {
  "kernelspec": {
   "display_name": "Python 3",
   "language": "python",
   "name": "python3"
  },
  "language_info": {
   "codemirror_mode": {
    "name": "ipython",
    "version": 3
   },
   "file_extension": ".py",
   "mimetype": "text/x-python",
   "name": "python",
   "nbconvert_exporter": "python",
   "pygments_lexer": "ipython3",
   "version": "3.9.19"
  },
  "orig_nbformat": 4
 },
 "nbformat": 4,
 "nbformat_minor": 2
}
