{
 "cells": [
  {
   "cell_type": "markdown",
   "metadata": {},
   "source": [
    "# Differnt part of data represent for different scenarios, split them proportionally"
   ]
  },
  {
   "cell_type": "code",
   "execution_count": null,
   "metadata": {},
   "outputs": [],
   "source": [
    "import random\n",
    "\n",
    "# Set random seed for reproducibility\n",
    "random.seed(44)\n",
    "\n",
    "# Generate 100 unique random numbers from 0 to 999\n",
    "random_numbers_1 = random.sample(range(599), 60)\n",
    "\n",
    "# Generate 20 unique random numbers from 1000 to 1199\n",
    "random_numbers_2 = random.sample(range(600, 799), 20)\n",
    "\n",
    "\n",
    "# Generate 20 unique random numbers from 1000 to 1199\n",
    "random_numbers_3 = random.sample(range(800, 999), 20)\n"
   ]
  },
  {
   "cell_type": "code",
   "execution_count": null,
   "metadata": {},
   "outputs": [],
   "source": [
    "import numpy as np\n",
    "data_dir = \"/home/featurize/work/TinyLLaMA/src/data/query_v2.json\"\n",
    "\n",
    "with open(data_dir, \"r\") as f:\n",
    "    query = json.load(f)\n",
    "    \n",
    "# Saving all dictionaries to a single JSON file\n",
    "with open(\"/home/featurize/work/TinyLLaMA/src/data/query_finetune.json\", \"w\") as json_file:\n",
    "    data_list_ft = list(np.array(query)[list(set(np.arange(len(query))) - set((random_numbers_1 + random_numbers_2 + random_numbers_3)))])\n",
    "    json.dump(data_list_ft, json_file, indent=4)\n",
    "    \n",
    "with open(\"/home/featurize/work/TinyLLaMA/src/data/query_test.json\", \"w\") as json_file:\n",
    "    data_list_te = list(np.array(query)[random_numbers_1 + random_numbers_2 + random_numbers_3])\n",
    "    json.dump(data_list_te, json_file, indent=4)"
   ]
  }
 ],
 "metadata": {
  "language_info": {
   "name": "python"
  }
 },
 "nbformat": 4,
 "nbformat_minor": 2
}
